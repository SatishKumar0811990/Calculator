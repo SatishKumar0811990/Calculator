{
  "nbformat": 4,
  "nbformat_minor": 0,
  "metadata": {
    "colab": {
      "name": "Calculator.ipynb",
      "provenance": [],
      "authorship_tag": "ABX9TyOSF98JTCVTCkKEYblCu/if",
      "include_colab_link": true
    },
    "kernelspec": {
      "name": "python3",
      "display_name": "Python 3"
    },
    "language_info": {
      "name": "python"
    }
  },
  "cells": [
    {
      "cell_type": "markdown",
      "metadata": {
        "id": "view-in-github",
        "colab_type": "text"
      },
      "source": [
        "<a href=\"https://colab.research.google.com/github/SatishKumar0811990/Calculator/blob/main/Calculator.ipynb\" target=\"_parent\"><img src=\"https://colab.research.google.com/assets/colab-badge.svg\" alt=\"Open In Colab\"/></a>"
      ]
    },
    {
      "cell_type": "code",
      "metadata": {
        "colab": {
          "base_uri": "https://localhost:8080/"
        },
        "id": "Dh8YNL4PrFZQ",
        "outputId": "f138e528-03f1-4d34-8754-a5b6f4b762b6"
      },
      "source": [
        "#Calculator\n",
        "\n",
        "def addition ():\n",
        "    print(\"Addition\")\n",
        "    n = float(input(\"Enter the number: \"))\n",
        "    t = 0\n",
        "    ans = 0\n",
        "    while n != 0:\n",
        "        ans = ans + n\n",
        "        t+=1\n",
        "        n = float(input(\"Enter another number (0 to calculate): \"))\n",
        "    return [ans,t]\n",
        "def subtraction ():\n",
        "    print(\"Subtraction\");\n",
        "    n = float(input(\"Enter the number: \"))\n",
        "    t = 0\n",
        "    sum = 0\n",
        "    while n != 0:\n",
        "        ans = ans - n\n",
        "        t+=1\n",
        "        n = float(input(\"Enter another number (0 to calculate): \"))\n",
        "    return [ans,t]\n",
        "def multiplication ():\n",
        "    print(\"Multiplication\")\n",
        "    n = float(input(\"Enter the number: \"))\n",
        "    t = 0\n",
        "    ans = 1\n",
        "    while n != 0:\n",
        "        ans = ans * n\n",
        "        t+=1\n",
        "        n = float(input(\"Enter another number (0 to calculate): \"))\n",
        "    return [ans,t]\n",
        "def average():\n",
        "    an = []\n",
        "    an = addition()\n",
        "    t = an[1]\n",
        "    a = an[0]\n",
        "    ans = a / t\n",
        "    return [ans,t]\n",
        "while True:\n",
        "    list = []\n",
        "    print(\" My first python program!\")\n",
        "    print(\" Simple Calculator in python by Malik Umer Farooq\")\n",
        "    print(\" Enter 'a' for addition\")\n",
        "    print(\" Enter 's' for substraction\")\n",
        "    print(\" Enter 'm' for multiplication\")\n",
        "    print(\" Enter 'v' for average\")\n",
        "    print(\" Enter 'q' for quit\")\n",
        "    c = input(\" \")\n",
        "    if c != 'q':\n",
        "        if c == 'a':\n",
        "            list = addition()\n",
        "            print(\"Ans = \", list[0], \" total inputs \",list[1])\n",
        "        elif c == 's':\n",
        "            list = subtraction()\n",
        "            print(\"Ans = \", list[0], \" total inputs \",list[1])\n",
        "        elif c == 'm':\n",
        "            list = multiplication()\n",
        "            print(\"Ans = \", list[0], \" total inputs \",list[1])\n",
        "        elif c == 'v':\n",
        "            list = average()\n",
        "            print(\"Ans = \", list[0], \" total inputs \",list[1])\n",
        "        else:\n",
        "            print (\"Sorry, invilid character\")\n",
        "    else:\n",
        "        break"
      ],
      "execution_count": null,
      "outputs": [
        {
          "output_type": "stream",
          "text": [
            " My first python program!\n",
            " Simple Calculator in python by Malik Umer Farooq\n",
            " Enter 'a' for addition\n",
            " Enter 's' for substraction\n",
            " Enter 'm' for multiplication\n",
            " Enter 'v' for average\n",
            " Enter 'q' for quit\n"
          ],
          "name": "stdout"
        }
      ]
    }
  ]
}